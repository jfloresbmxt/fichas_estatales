{
 "cells": [
  {
   "cell_type": "code",
   "execution_count": 1,
   "metadata": {},
   "outputs": [],
   "source": [
    "from pandas import read_excel, DataFrame, concat"
   ]
  },
  {
   "cell_type": "code",
   "execution_count": 9,
   "metadata": {},
   "outputs": [],
   "source": [
    "estados = read_excel(\"estados.xlsx\")\n",
    "estados = estados[\"estado\"].to_list()"
   ]
  },
  {
   "cell_type": "code",
   "execution_count": 11,
   "metadata": {},
   "outputs": [
    {
     "name": "stderr",
     "output_type": "stream",
     "text": [
      "C:\\Users\\jflores\\AppData\\Local\\Temp\\ipykernel_12892\\4122005431.py:28: FutureWarning: Calling float on a single element Series is deprecated and will raise a TypeError in the future. Use float(ser.iloc[0]) instead\n",
      "  \"Edad PEA\": float(edad.iloc[0]),\n",
      "C:\\Users\\jflores\\AppData\\Local\\Temp\\ipykernel_12892\\4122005431.py:28: FutureWarning: Calling float on a single element Series is deprecated and will raise a TypeError in the future. Use float(ser.iloc[0]) instead\n",
      "  \"Edad PEA\": float(edad.iloc[0]),\n",
      "C:\\Users\\jflores\\AppData\\Local\\Temp\\ipykernel_12892\\4122005431.py:28: FutureWarning: Calling float on a single element Series is deprecated and will raise a TypeError in the future. Use float(ser.iloc[0]) instead\n",
      "  \"Edad PEA\": float(edad.iloc[0]),\n",
      "C:\\Users\\jflores\\AppData\\Local\\Temp\\ipykernel_12892\\4122005431.py:28: FutureWarning: Calling float on a single element Series is deprecated and will raise a TypeError in the future. Use float(ser.iloc[0]) instead\n",
      "  \"Edad PEA\": float(edad.iloc[0]),\n",
      "C:\\Users\\jflores\\AppData\\Local\\Temp\\ipykernel_12892\\4122005431.py:28: FutureWarning: Calling float on a single element Series is deprecated and will raise a TypeError in the future. Use float(ser.iloc[0]) instead\n",
      "  \"Edad PEA\": float(edad.iloc[0]),\n",
      "C:\\Users\\jflores\\AppData\\Local\\Temp\\ipykernel_12892\\4122005431.py:28: FutureWarning: Calling float on a single element Series is deprecated and will raise a TypeError in the future. Use float(ser.iloc[0]) instead\n",
      "  \"Edad PEA\": float(edad.iloc[0]),\n",
      "C:\\Users\\jflores\\AppData\\Local\\Temp\\ipykernel_12892\\4122005431.py:28: FutureWarning: Calling float on a single element Series is deprecated and will raise a TypeError in the future. Use float(ser.iloc[0]) instead\n",
      "  \"Edad PEA\": float(edad.iloc[0]),\n",
      "C:\\Users\\jflores\\AppData\\Local\\Temp\\ipykernel_12892\\4122005431.py:28: FutureWarning: Calling float on a single element Series is deprecated and will raise a TypeError in the future. Use float(ser.iloc[0]) instead\n",
      "  \"Edad PEA\": float(edad.iloc[0]),\n",
      "C:\\Users\\jflores\\AppData\\Local\\Temp\\ipykernel_12892\\4122005431.py:28: FutureWarning: Calling float on a single element Series is deprecated and will raise a TypeError in the future. Use float(ser.iloc[0]) instead\n",
      "  \"Edad PEA\": float(edad.iloc[0]),\n",
      "C:\\Users\\jflores\\AppData\\Local\\Temp\\ipykernel_12892\\4122005431.py:28: FutureWarning: Calling float on a single element Series is deprecated and will raise a TypeError in the future. Use float(ser.iloc[0]) instead\n",
      "  \"Edad PEA\": float(edad.iloc[0]),\n",
      "C:\\Users\\jflores\\AppData\\Local\\Temp\\ipykernel_12892\\4122005431.py:28: FutureWarning: Calling float on a single element Series is deprecated and will raise a TypeError in the future. Use float(ser.iloc[0]) instead\n",
      "  \"Edad PEA\": float(edad.iloc[0]),\n",
      "C:\\Users\\jflores\\AppData\\Local\\Temp\\ipykernel_12892\\4122005431.py:28: FutureWarning: Calling float on a single element Series is deprecated and will raise a TypeError in the future. Use float(ser.iloc[0]) instead\n",
      "  \"Edad PEA\": float(edad.iloc[0]),\n",
      "C:\\Users\\jflores\\AppData\\Local\\Temp\\ipykernel_12892\\4122005431.py:28: FutureWarning: Calling float on a single element Series is deprecated and will raise a TypeError in the future. Use float(ser.iloc[0]) instead\n",
      "  \"Edad PEA\": float(edad.iloc[0]),\n",
      "C:\\Users\\jflores\\AppData\\Local\\Temp\\ipykernel_12892\\4122005431.py:28: FutureWarning: Calling float on a single element Series is deprecated and will raise a TypeError in the future. Use float(ser.iloc[0]) instead\n",
      "  \"Edad PEA\": float(edad.iloc[0]),\n",
      "C:\\Users\\jflores\\AppData\\Local\\Temp\\ipykernel_12892\\4122005431.py:28: FutureWarning: Calling float on a single element Series is deprecated and will raise a TypeError in the future. Use float(ser.iloc[0]) instead\n",
      "  \"Edad PEA\": float(edad.iloc[0]),\n",
      "C:\\Users\\jflores\\AppData\\Local\\Temp\\ipykernel_12892\\4122005431.py:28: FutureWarning: Calling float on a single element Series is deprecated and will raise a TypeError in the future. Use float(ser.iloc[0]) instead\n",
      "  \"Edad PEA\": float(edad.iloc[0]),\n",
      "C:\\Users\\jflores\\AppData\\Local\\Temp\\ipykernel_12892\\4122005431.py:28: FutureWarning: Calling float on a single element Series is deprecated and will raise a TypeError in the future. Use float(ser.iloc[0]) instead\n",
      "  \"Edad PEA\": float(edad.iloc[0]),\n",
      "C:\\Users\\jflores\\AppData\\Local\\Temp\\ipykernel_12892\\4122005431.py:28: FutureWarning: Calling float on a single element Series is deprecated and will raise a TypeError in the future. Use float(ser.iloc[0]) instead\n",
      "  \"Edad PEA\": float(edad.iloc[0]),\n",
      "C:\\Users\\jflores\\AppData\\Local\\Temp\\ipykernel_12892\\4122005431.py:28: FutureWarning: Calling float on a single element Series is deprecated and will raise a TypeError in the future. Use float(ser.iloc[0]) instead\n",
      "  \"Edad PEA\": float(edad.iloc[0]),\n",
      "C:\\Users\\jflores\\AppData\\Local\\Temp\\ipykernel_12892\\4122005431.py:28: FutureWarning: Calling float on a single element Series is deprecated and will raise a TypeError in the future. Use float(ser.iloc[0]) instead\n",
      "  \"Edad PEA\": float(edad.iloc[0]),\n",
      "C:\\Users\\jflores\\AppData\\Local\\Temp\\ipykernel_12892\\4122005431.py:28: FutureWarning: Calling float on a single element Series is deprecated and will raise a TypeError in the future. Use float(ser.iloc[0]) instead\n",
      "  \"Edad PEA\": float(edad.iloc[0]),\n",
      "C:\\Users\\jflores\\AppData\\Local\\Temp\\ipykernel_12892\\4122005431.py:28: FutureWarning: Calling float on a single element Series is deprecated and will raise a TypeError in the future. Use float(ser.iloc[0]) instead\n",
      "  \"Edad PEA\": float(edad.iloc[0]),\n",
      "C:\\Users\\jflores\\AppData\\Local\\Temp\\ipykernel_12892\\4122005431.py:28: FutureWarning: Calling float on a single element Series is deprecated and will raise a TypeError in the future. Use float(ser.iloc[0]) instead\n",
      "  \"Edad PEA\": float(edad.iloc[0]),\n",
      "C:\\Users\\jflores\\AppData\\Local\\Temp\\ipykernel_12892\\4122005431.py:28: FutureWarning: Calling float on a single element Series is deprecated and will raise a TypeError in the future. Use float(ser.iloc[0]) instead\n",
      "  \"Edad PEA\": float(edad.iloc[0]),\n",
      "C:\\Users\\jflores\\AppData\\Local\\Temp\\ipykernel_12892\\4122005431.py:28: FutureWarning: Calling float on a single element Series is deprecated and will raise a TypeError in the future. Use float(ser.iloc[0]) instead\n",
      "  \"Edad PEA\": float(edad.iloc[0]),\n",
      "C:\\Users\\jflores\\AppData\\Local\\Temp\\ipykernel_12892\\4122005431.py:28: FutureWarning: Calling float on a single element Series is deprecated and will raise a TypeError in the future. Use float(ser.iloc[0]) instead\n",
      "  \"Edad PEA\": float(edad.iloc[0]),\n",
      "C:\\Users\\jflores\\AppData\\Local\\Temp\\ipykernel_12892\\4122005431.py:28: FutureWarning: Calling float on a single element Series is deprecated and will raise a TypeError in the future. Use float(ser.iloc[0]) instead\n",
      "  \"Edad PEA\": float(edad.iloc[0]),\n",
      "C:\\Users\\jflores\\AppData\\Local\\Temp\\ipykernel_12892\\4122005431.py:28: FutureWarning: Calling float on a single element Series is deprecated and will raise a TypeError in the future. Use float(ser.iloc[0]) instead\n",
      "  \"Edad PEA\": float(edad.iloc[0]),\n",
      "C:\\Users\\jflores\\AppData\\Local\\Temp\\ipykernel_12892\\4122005431.py:28: FutureWarning: Calling float on a single element Series is deprecated and will raise a TypeError in the future. Use float(ser.iloc[0]) instead\n",
      "  \"Edad PEA\": float(edad.iloc[0]),\n",
      "C:\\Users\\jflores\\AppData\\Local\\Temp\\ipykernel_12892\\4122005431.py:28: FutureWarning: Calling float on a single element Series is deprecated and will raise a TypeError in the future. Use float(ser.iloc[0]) instead\n",
      "  \"Edad PEA\": float(edad.iloc[0]),\n",
      "C:\\Users\\jflores\\AppData\\Local\\Temp\\ipykernel_12892\\4122005431.py:28: FutureWarning: Calling float on a single element Series is deprecated and will raise a TypeError in the future. Use float(ser.iloc[0]) instead\n",
      "  \"Edad PEA\": float(edad.iloc[0]),\n",
      "C:\\Users\\jflores\\AppData\\Local\\Temp\\ipykernel_12892\\4122005431.py:28: FutureWarning: Calling float on a single element Series is deprecated and will raise a TypeError in the future. Use float(ser.iloc[0]) instead\n",
      "  \"Edad PEA\": float(edad.iloc[0]),\n"
     ]
    }
   ],
   "source": [
    "empleo = DataFrame(columns=[\"Estado\", \"Poblacion Total\", \"Poblacion Total (%)\", \"PEA\", \"PEA (%)\",\"Edad PEA\", \"Desocupacion(%)\", \"Informalidad(%)\",\n",
    "                             \"Desempleo\", \"Desempleo ES\", \"Desempleo ES(%)\", \"Primario(%)\", \"Secundario(%)\", \"Terciario(%)\"])\n",
    "\n",
    "for e in estados:\n",
    "    estado = read_excel(\"Entidades/2023_trim_3_Entidad_\" + e + \".xls\", skiprows=5)\n",
    "    poblacion = estado[estado[\"Unnamed: 0\"] == \"I.  Población total 1\"]['Julio - Septiembre  2023']\n",
    "    pea = estado[estado[\"Unnamed: 1\"] == \"Población económicamente activa (PEA)\"]['Julio - Septiembre  2023']\n",
    "    edad = estado.iloc[245:246][['Julio - Septiembre  2023']]\n",
    "    des = estado[estado[\"Unnamed: 2\"] == \"Tasa de desocupación\"]['Julio - Septiembre  2023']\n",
    "    informalidad = estado[estado[\"Unnamed: 2\"] == \"Tasa de informalidad laboral 1 (TIL1)\"]['Julio - Septiembre  2023']\n",
    "    total_desem = float(estado[estado[\"Unnamed: 1\"] == \"7.2 Nivel de instrucción\"]['Julio - Septiembre  2023'].iloc[0])\n",
    "    desem_uni = float(estado[estado[\"Unnamed: 1\"] == 'Medio superior y superior']['Julio - Septiembre  2023'].iloc[1])\n",
    "    desem_uni_por = (desem_uni/total_desem)*100\n",
    "    total = (estado.iloc[23:24][['Julio - Septiembre  2023']]).iloc[0][\"Julio - Septiembre  2023\"]\n",
    "    primario = (estado.iloc[24:25][['Julio - Septiembre  2023']]/total)*100\n",
    "    primario = primario.iloc[0][\"Julio - Septiembre  2023\"]\n",
    "    secundario = (estado.iloc[26:27][['Julio - Septiembre  2023']]/total)*100\n",
    "    secundario = secundario.iloc[0][\"Julio - Septiembre  2023\"]\n",
    "    terciario = (estado.iloc[30:31][['Julio - Septiembre  2023']]/total)*100\n",
    "    terciario = terciario.iloc[0][\"Julio - Septiembre  2023\"]\n",
    "\n",
    "    new_row = {\n",
    "        \"Estado\": e, \n",
    "        \"Poblacion Total\": int(poblacion.iloc[0]),\n",
    "        \"Poblacion Total (%)\": (int(poblacion.iloc[0])/128857600)*100,\n",
    "        \"PEA\": int(pea.iloc[0]),\n",
    "        \"PEA (%)\": (int(pea.iloc[0])/60145456)*100,\n",
    "        \"Edad PEA\": float(edad.iloc[0]),\n",
    "        \"Desocupacion(%)\": float(des.iloc[0]),\n",
    "        \"Informalidad(%)\": float(informalidad.iloc[0]),\n",
    "        \"Desempleo\": total_desem,\n",
    "        \"Desempleo ES\": desem_uni,\n",
    "        \"Desempleo ES(%)\":desem_uni_por,\n",
    "        \"Primario(%)\": primario,\n",
    "        \"Secundario(%)\": secundario,\n",
    "        \"Terciario(%)\": terciario\n",
    "        }\n",
    "    empleo.loc[len(empleo)] = new_row"
   ]
  },
  {
   "cell_type": "code",
   "execution_count": 13,
   "metadata": {},
   "outputs": [],
   "source": [
    "empleo.to_excel(\"enoe_3trim_2023_231221.xlsx\")"
   ]
  }
 ],
 "metadata": {
  "kernelspec": {
   "display_name": "Python 3",
   "language": "python",
   "name": "python3"
  },
  "language_info": {
   "codemirror_mode": {
    "name": "ipython",
    "version": 3
   },
   "file_extension": ".py",
   "mimetype": "text/x-python",
   "name": "python",
   "nbconvert_exporter": "python",
   "pygments_lexer": "ipython3",
   "version": "3.10.9"
  }
 },
 "nbformat": 4,
 "nbformat_minor": 2
}
